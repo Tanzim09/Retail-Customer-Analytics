{
 "cells": [
  {
   "cell_type": "code",
   "execution_count": 1,
   "id": "05ab0030-8023-4f6a-86cd-dadee76718e4",
   "metadata": {},
   "outputs": [],
   "source": [
    "import pandas as pd\n",
    "import numpy as np\n",
    "import zipfile\n",
    "\n",
    "# For display settings\n",
    "pd.set_option('display.max_columns', None)"
   ]
  },
  {
   "cell_type": "code",
   "execution_count": 2,
   "id": "4fab116d-f6b8-435a-9421-c6ee94ea79a6",
   "metadata": {},
   "outputs": [],
   "source": [
    "# location of the ZIP file\n",
    "file_path = r\"C:\\Users\\tanzi\\Personal Projects\\Market-Basket-Analysis\\data\\Retail_Transactions_Dataset.zip\"\n",
    "\n",
    "# Opening and laoding into dataframe\n",
    "with zipfile.ZipFile(file_path, 'r') as z:\n",
    "    with z.open('Retail_Transactions_Dataset.csv') as f:\n",
    "        df = pd.read_csv(f)"
   ]
  },
  {
   "cell_type": "code",
   "execution_count": 3,
   "id": "11bb69b1-de0e-4211-9dc7-f36d036a06cc",
   "metadata": {},
   "outputs": [
    {
     "data": {
      "text/html": [
       "<div>\n",
       "<style scoped>\n",
       "    .dataframe tbody tr th:only-of-type {\n",
       "        vertical-align: middle;\n",
       "    }\n",
       "\n",
       "    .dataframe tbody tr th {\n",
       "        vertical-align: top;\n",
       "    }\n",
       "\n",
       "    .dataframe thead th {\n",
       "        text-align: right;\n",
       "    }\n",
       "</style>\n",
       "<table border=\"1\" class=\"dataframe\">\n",
       "  <thead>\n",
       "    <tr style=\"text-align: right;\">\n",
       "      <th></th>\n",
       "      <th>Transaction_ID</th>\n",
       "      <th>Date</th>\n",
       "      <th>Customer_Name</th>\n",
       "      <th>Product</th>\n",
       "      <th>Total_Items</th>\n",
       "      <th>Total_Cost</th>\n",
       "      <th>Payment_Method</th>\n",
       "      <th>City</th>\n",
       "      <th>Store_Type</th>\n",
       "      <th>Discount_Applied</th>\n",
       "      <th>Customer_Category</th>\n",
       "      <th>Season</th>\n",
       "      <th>Promotion</th>\n",
       "    </tr>\n",
       "  </thead>\n",
       "  <tbody>\n",
       "    <tr>\n",
       "      <th>0</th>\n",
       "      <td>1000000000</td>\n",
       "      <td>2022-01-21 06:27:29</td>\n",
       "      <td>Stacey Price</td>\n",
       "      <td>['Ketchup', 'Shaving Cream', 'Light Bulbs']</td>\n",
       "      <td>3</td>\n",
       "      <td>71.65</td>\n",
       "      <td>Mobile Payment</td>\n",
       "      <td>Los Angeles</td>\n",
       "      <td>Warehouse Club</td>\n",
       "      <td>True</td>\n",
       "      <td>Homemaker</td>\n",
       "      <td>Winter</td>\n",
       "      <td>NaN</td>\n",
       "    </tr>\n",
       "    <tr>\n",
       "      <th>1</th>\n",
       "      <td>1000000001</td>\n",
       "      <td>2023-03-01 13:01:21</td>\n",
       "      <td>Michelle Carlson</td>\n",
       "      <td>['Ice Cream', 'Milk', 'Olive Oil', 'Bread', 'P...</td>\n",
       "      <td>2</td>\n",
       "      <td>25.93</td>\n",
       "      <td>Cash</td>\n",
       "      <td>San Francisco</td>\n",
       "      <td>Specialty Store</td>\n",
       "      <td>True</td>\n",
       "      <td>Professional</td>\n",
       "      <td>Fall</td>\n",
       "      <td>BOGO (Buy One Get One)</td>\n",
       "    </tr>\n",
       "    <tr>\n",
       "      <th>2</th>\n",
       "      <td>1000000002</td>\n",
       "      <td>2024-03-21 15:37:04</td>\n",
       "      <td>Lisa Graves</td>\n",
       "      <td>['Spinach']</td>\n",
       "      <td>6</td>\n",
       "      <td>41.49</td>\n",
       "      <td>Credit Card</td>\n",
       "      <td>Houston</td>\n",
       "      <td>Department Store</td>\n",
       "      <td>True</td>\n",
       "      <td>Professional</td>\n",
       "      <td>Winter</td>\n",
       "      <td>NaN</td>\n",
       "    </tr>\n",
       "    <tr>\n",
       "      <th>3</th>\n",
       "      <td>1000000003</td>\n",
       "      <td>2020-10-31 09:59:47</td>\n",
       "      <td>Mrs. Patricia May</td>\n",
       "      <td>['Tissues', 'Mustard']</td>\n",
       "      <td>1</td>\n",
       "      <td>39.34</td>\n",
       "      <td>Mobile Payment</td>\n",
       "      <td>Chicago</td>\n",
       "      <td>Pharmacy</td>\n",
       "      <td>True</td>\n",
       "      <td>Homemaker</td>\n",
       "      <td>Spring</td>\n",
       "      <td>NaN</td>\n",
       "    </tr>\n",
       "    <tr>\n",
       "      <th>4</th>\n",
       "      <td>1000000004</td>\n",
       "      <td>2020-12-10 00:59:59</td>\n",
       "      <td>Susan Mitchell</td>\n",
       "      <td>['Dish Soap']</td>\n",
       "      <td>10</td>\n",
       "      <td>16.42</td>\n",
       "      <td>Debit Card</td>\n",
       "      <td>Houston</td>\n",
       "      <td>Specialty Store</td>\n",
       "      <td>False</td>\n",
       "      <td>Young Adult</td>\n",
       "      <td>Winter</td>\n",
       "      <td>Discount on Selected Items</td>\n",
       "    </tr>\n",
       "  </tbody>\n",
       "</table>\n",
       "</div>"
      ],
      "text/plain": [
       "   Transaction_ID                 Date      Customer_Name  \\\n",
       "0      1000000000  2022-01-21 06:27:29       Stacey Price   \n",
       "1      1000000001  2023-03-01 13:01:21   Michelle Carlson   \n",
       "2      1000000002  2024-03-21 15:37:04        Lisa Graves   \n",
       "3      1000000003  2020-10-31 09:59:47  Mrs. Patricia May   \n",
       "4      1000000004  2020-12-10 00:59:59     Susan Mitchell   \n",
       "\n",
       "                                             Product  Total_Items  Total_Cost  \\\n",
       "0        ['Ketchup', 'Shaving Cream', 'Light Bulbs']            3       71.65   \n",
       "1  ['Ice Cream', 'Milk', 'Olive Oil', 'Bread', 'P...            2       25.93   \n",
       "2                                        ['Spinach']            6       41.49   \n",
       "3                             ['Tissues', 'Mustard']            1       39.34   \n",
       "4                                      ['Dish Soap']           10       16.42   \n",
       "\n",
       "   Payment_Method           City        Store_Type  Discount_Applied  \\\n",
       "0  Mobile Payment    Los Angeles    Warehouse Club              True   \n",
       "1            Cash  San Francisco   Specialty Store              True   \n",
       "2     Credit Card        Houston  Department Store              True   \n",
       "3  Mobile Payment        Chicago          Pharmacy              True   \n",
       "4      Debit Card        Houston   Specialty Store             False   \n",
       "\n",
       "  Customer_Category  Season                   Promotion  \n",
       "0         Homemaker  Winter                         NaN  \n",
       "1      Professional    Fall      BOGO (Buy One Get One)  \n",
       "2      Professional  Winter                         NaN  \n",
       "3         Homemaker  Spring                         NaN  \n",
       "4       Young Adult  Winter  Discount on Selected Items  "
      ]
     },
     "execution_count": 3,
     "metadata": {},
     "output_type": "execute_result"
    }
   ],
   "source": [
    "df.head()"
   ]
  },
  {
   "cell_type": "code",
   "execution_count": 4,
   "id": "ce73e755-f97f-4c95-a320-11dc0878aa2a",
   "metadata": {},
   "outputs": [
    {
     "name": "stdout",
     "output_type": "stream",
     "text": [
      "Transaction_ID            0\n",
      "Date                      0\n",
      "Customer_Name             0\n",
      "Product                   0\n",
      "Total_Items               0\n",
      "Total_Cost                0\n",
      "Payment_Method            0\n",
      "City                      0\n",
      "Store_Type                0\n",
      "Discount_Applied          0\n",
      "Customer_Category         0\n",
      "Season                    0\n",
      "Promotion            333943\n",
      "dtype: int64\n"
     ]
    }
   ],
   "source": [
    "# Checking for missing value\n",
    "print(df.isnull().sum())"
   ]
  },
  {
   "cell_type": "code",
   "execution_count": 5,
   "id": "cca888da-b133-42f9-b8bd-53090fcb607f",
   "metadata": {},
   "outputs": [
    {
     "name": "stdout",
     "output_type": "stream",
     "text": [
      "Promotion\n",
      "NaN                           333943\n",
      "Discount on Selected Items    333370\n",
      "BOGO (Buy One Get One)        332687\n",
      "Name: count, dtype: int64\n"
     ]
    }
   ],
   "source": [
    "# Only Promotion column has missing values\n",
    "# Viewing unique values and thier counts\n",
    "print(df[\"Promotion\"].value_counts(dropna=False))"
   ]
  },
  {
   "cell_type": "code",
   "execution_count": 6,
   "id": "249b901c-7de7-49b2-b348-338bf2b71eed",
   "metadata": {},
   "outputs": [
    {
     "name": "stderr",
     "output_type": "stream",
     "text": [
      "C:\\Users\\tanzi\\AppData\\Local\\Temp\\ipykernel_20316\\3736160388.py:2: FutureWarning: A value is trying to be set on a copy of a DataFrame or Series through chained assignment using an inplace method.\n",
      "The behavior will change in pandas 3.0. This inplace method will never work because the intermediate object on which we are setting values always behaves as a copy.\n",
      "\n",
      "For example, when doing 'df[col].method(value, inplace=True)', try using 'df.method({col: value}, inplace=True)' or df[col] = df[col].method(value) instead, to perform the operation inplace on the original object.\n",
      "\n",
      "\n",
      "  df[\"Promotion\"].fillna(\"None\", inplace=True)\n"
     ]
    }
   ],
   "source": [
    "# Replacing missing value with \"None\"\n",
    "df[\"Promotion\"].fillna(\"None\", inplace=True)"
   ]
  },
  {
   "cell_type": "code",
   "execution_count": 7,
   "id": "be1eeea9-3292-41af-ba24-2efef2eec01c",
   "metadata": {},
   "outputs": [
    {
     "name": "stdout",
     "output_type": "stream",
     "text": [
      "Promotion\n",
      "None                          333943\n",
      "Discount on Selected Items    333370\n",
      "BOGO (Buy One Get One)        332687\n",
      "Name: count, dtype: int64\n"
     ]
    }
   ],
   "source": [
    "print(df[\"Promotion\"].value_counts(dropna=False))"
   ]
  },
  {
   "cell_type": "code",
   "execution_count": 8,
   "id": "76c71379-5808-4141-af9b-5a6c2c858a61",
   "metadata": {},
   "outputs": [
    {
     "data": {
      "text/plain": [
       "Index(['Transaction_ID', 'Date', 'Customer_Name', 'Product', 'Total_Items',\n",
       "       'Total_Cost', 'Payment_Method', 'City', 'Store_Type',\n",
       "       'Discount_Applied', 'Customer_Category', 'Season', 'Promotion'],\n",
       "      dtype='object')"
      ]
     },
     "execution_count": 8,
     "metadata": {},
     "output_type": "execute_result"
    }
   ],
   "source": [
    "df.columns"
   ]
  },
  {
   "cell_type": "code",
   "execution_count": 9,
   "id": "5095b0cb-e007-4c1e-abc5-68254b587e0d",
   "metadata": {},
   "outputs": [
    {
     "data": {
      "text/plain": [
       "Index(['transaction_id', 'date', 'customer_name', 'product', 'total_items',\n",
       "       'total_cost', 'payment_method', 'city', 'store_type',\n",
       "       'discount_applied', 'customer_category', 'season', 'promotion'],\n",
       "      dtype='object')"
      ]
     },
     "execution_count": 9,
     "metadata": {},
     "output_type": "execute_result"
    }
   ],
   "source": [
    "# Standardizing column names -- to lower letters\n",
    "df.columns = df.columns.str.strip().str.lower()\n",
    "\n",
    "df.columns"
   ]
  },
  {
   "cell_type": "code",
   "execution_count": 10,
   "id": "4712b64d-06a0-4136-9ebc-42320911d1ff",
   "metadata": {},
   "outputs": [
    {
     "name": "stdout",
     "output_type": "stream",
     "text": [
      "Unique Payment Methods: ['Mobile Payment' 'Cash' 'Credit Card' 'Debit Card']\n",
      "Unique Store Types: ['Warehouse Club' 'Specialty Store' 'Department Store' 'Pharmacy'\n",
      " 'Supermarket' 'Convenience Store']\n",
      "Unique Customer Categories: ['Homemaker' 'Professional' 'Young Adult' 'Retiree' 'Student'\n",
      " 'Middle-Aged' 'Senior Citizen' 'Teenager']\n",
      "Unique Seasons: ['Winter' 'Fall' 'Spring' 'Summer']\n"
     ]
    }
   ],
   "source": [
    "# Checking unique other columns\n",
    "print(\"Unique Payment Methods:\", df[\"payment_method\"].unique())\n",
    "print(\"Unique Store Types:\", df[\"store_type\"].unique())\n",
    "print(\"Unique Customer Categories:\", df[\"customer_category\"].unique())\n",
    "print(\"Unique Seasons:\", df[\"season\"].unique())"
   ]
  },
  {
   "cell_type": "code",
   "execution_count": 11,
   "id": "eff12c1c-4c1d-47f8-ae27-46a0a0ef099e",
   "metadata": {},
   "outputs": [
    {
     "data": {
      "text/plain": [
       "transaction_id         int64\n",
       "date                  object\n",
       "customer_name         object\n",
       "product               object\n",
       "total_items            int64\n",
       "total_cost           float64\n",
       "payment_method        object\n",
       "city                  object\n",
       "store_type            object\n",
       "discount_applied        bool\n",
       "customer_category     object\n",
       "season                object\n",
       "promotion             object\n",
       "dtype: object"
      ]
     },
     "execution_count": 11,
     "metadata": {},
     "output_type": "execute_result"
    }
   ],
   "source": [
    "df.dtypes"
   ]
  },
  {
   "cell_type": "code",
   "execution_count": 12,
   "id": "f7c09917-e23f-45c6-b20a-c06c3b039a07",
   "metadata": {},
   "outputs": [
    {
     "name": "stdout",
     "output_type": "stream",
     "text": [
      "0            [Ketchup, Shaving Cream, Light Bulbs]\n",
      "1    [Ice Cream, Milk, Olive Oil, Bread, Potatoes]\n",
      "2                                        [Spinach]\n",
      "3                               [Tissues, Mustard]\n",
      "4                                      [Dish Soap]\n",
      "Name: product, dtype: object\n"
     ]
    }
   ],
   "source": [
    "import ast\n",
    "\n",
    "# Converting it to a lsit if not already\n",
    "df[\"product\"] = df[\"product\"].apply(ast.literal_eval)  # Converts properly formatted strings to lists\n",
    "print(df[\"product\"].head())"
   ]
  },
  {
   "cell_type": "code",
   "execution_count": 13,
   "id": "199bac63-a4e9-4fd1-b29a-937ff64d941a",
   "metadata": {},
   "outputs": [],
   "source": [
    "# Converting \"date\" to datetime type\n",
    "df['date'] = pd.to_datetime(df['date'], errors='coerce')"
   ]
  },
  {
   "cell_type": "code",
   "execution_count": 14,
   "id": "a09eb78e-0119-4e9a-855e-a6b51e7d20ce",
   "metadata": {},
   "outputs": [
    {
     "name": "stdout",
     "output_type": "stream",
     "text": [
      "<class 'pandas.core.frame.DataFrame'>\n",
      "RangeIndex: 1000000 entries, 0 to 999999\n",
      "Data columns (total 13 columns):\n",
      " #   Column             Non-Null Count    Dtype         \n",
      "---  ------             --------------    -----         \n",
      " 0   transaction_id     1000000 non-null  int64         \n",
      " 1   date               1000000 non-null  datetime64[ns]\n",
      " 2   customer_name      1000000 non-null  object        \n",
      " 3   product            1000000 non-null  object        \n",
      " 4   total_items        1000000 non-null  int64         \n",
      " 5   total_cost         1000000 non-null  float64       \n",
      " 6   payment_method     1000000 non-null  object        \n",
      " 7   city               1000000 non-null  object        \n",
      " 8   store_type         1000000 non-null  object        \n",
      " 9   discount_applied   1000000 non-null  bool          \n",
      " 10  customer_category  1000000 non-null  object        \n",
      " 11  season             1000000 non-null  object        \n",
      " 12  promotion          1000000 non-null  object        \n",
      "dtypes: bool(1), datetime64[ns](1), float64(1), int64(2), object(8)\n",
      "memory usage: 92.5+ MB\n"
     ]
    }
   ],
   "source": [
    "df.info()"
   ]
  },
  {
   "cell_type": "code",
   "execution_count": 15,
   "id": "b3ae665c-4dc2-446d-aa34-fe39e6efdc8f",
   "metadata": {},
   "outputs": [
    {
     "data": {
      "text/html": [
       "<div>\n",
       "<style scoped>\n",
       "    .dataframe tbody tr th:only-of-type {\n",
       "        vertical-align: middle;\n",
       "    }\n",
       "\n",
       "    .dataframe tbody tr th {\n",
       "        vertical-align: top;\n",
       "    }\n",
       "\n",
       "    .dataframe thead th {\n",
       "        text-align: right;\n",
       "    }\n",
       "</style>\n",
       "<table border=\"1\" class=\"dataframe\">\n",
       "  <thead>\n",
       "    <tr style=\"text-align: right;\">\n",
       "      <th></th>\n",
       "      <th>date</th>\n",
       "      <th>year</th>\n",
       "      <th>month</th>\n",
       "      <th>day_of_week</th>\n",
       "      <th>hour</th>\n",
       "    </tr>\n",
       "  </thead>\n",
       "  <tbody>\n",
       "    <tr>\n",
       "      <th>0</th>\n",
       "      <td>2022-01-21 06:27:29</td>\n",
       "      <td>2022</td>\n",
       "      <td>1</td>\n",
       "      <td>Friday</td>\n",
       "      <td>6</td>\n",
       "    </tr>\n",
       "    <tr>\n",
       "      <th>1</th>\n",
       "      <td>2023-03-01 13:01:21</td>\n",
       "      <td>2023</td>\n",
       "      <td>3</td>\n",
       "      <td>Wednesday</td>\n",
       "      <td>13</td>\n",
       "    </tr>\n",
       "    <tr>\n",
       "      <th>2</th>\n",
       "      <td>2024-03-21 15:37:04</td>\n",
       "      <td>2024</td>\n",
       "      <td>3</td>\n",
       "      <td>Thursday</td>\n",
       "      <td>15</td>\n",
       "    </tr>\n",
       "    <tr>\n",
       "      <th>3</th>\n",
       "      <td>2020-10-31 09:59:47</td>\n",
       "      <td>2020</td>\n",
       "      <td>10</td>\n",
       "      <td>Saturday</td>\n",
       "      <td>9</td>\n",
       "    </tr>\n",
       "    <tr>\n",
       "      <th>4</th>\n",
       "      <td>2020-12-10 00:59:59</td>\n",
       "      <td>2020</td>\n",
       "      <td>12</td>\n",
       "      <td>Thursday</td>\n",
       "      <td>0</td>\n",
       "    </tr>\n",
       "  </tbody>\n",
       "</table>\n",
       "</div>"
      ],
      "text/plain": [
       "                 date  year  month day_of_week  hour\n",
       "0 2022-01-21 06:27:29  2022      1      Friday     6\n",
       "1 2023-03-01 13:01:21  2023      3   Wednesday    13\n",
       "2 2024-03-21 15:37:04  2024      3    Thursday    15\n",
       "3 2020-10-31 09:59:47  2020     10    Saturday     9\n",
       "4 2020-12-10 00:59:59  2020     12    Thursday     0"
      ]
     },
     "execution_count": 15,
     "metadata": {},
     "output_type": "execute_result"
    }
   ],
   "source": [
    "# Extracting year,month,day of week and hour from date\n",
    "df[\"year\"] = df[\"date\"].dt.year\n",
    "df[\"month\"] = df[\"date\"].dt.month\n",
    "df[\"day_of_week\"] = df[\"date\"].dt.day_name()\n",
    "df[\"hour\"] = df[\"date\"].dt.hour\n",
    "\n",
    "df[[\"date\", \"year\", \"month\", \"day_of_week\", \"hour\"]].head()"
   ]
  },
  {
   "cell_type": "code",
   "execution_count": 16,
   "id": "c2b76c4f-8be3-41b9-9835-6c50d5aa26ce",
   "metadata": {},
   "outputs": [
    {
     "name": "stdout",
     "output_type": "stream",
     "text": [
      "Done with initial data cleaning\n"
     ]
    }
   ],
   "source": [
    "import os\n",
    "# Path where the cleaned CSV file will be saved\n",
    "cleaned_file_path = r\"C:\\Users\\tanzi\\Personal Projects\\Market-Basket-Analysis\\data\\cleaned_transactions.csv\"\n",
    "# Path where the ZIP file will be created.\n",
    "zip_file_path = r\"C:\\Users\\tanzi\\Personal Projects\\Market-Basket-Analysis\\data\\cleaned_transactions.zip\"\n",
    "\n",
    "# Saving the cleaned file \n",
    "df.to_csv(cleaned_file_path, index=False)\n",
    "\n",
    "# Zipping the cleaned file\n",
    "with zipfile.ZipFile(zip_file_path, 'w', zipfile.ZIP_DEFLATED) as zipf:\n",
    "    zipf.write(cleaned_file_path, arcname=\"cleaned_transactions.csv\")\n",
    "\n",
    "# Deleting the original cleaned file (because we already zipped it)\n",
    "os.remove(cleaned_file_path)\n",
    "\n",
    "print(\"Done with initial data cleaning\")"
   ]
  }
 ],
 "metadata": {
  "kernelspec": {
   "display_name": "Python [conda env:base] *",
   "language": "python",
   "name": "conda-base-py"
  },
  "language_info": {
   "codemirror_mode": {
    "name": "ipython",
    "version": 3
   },
   "file_extension": ".py",
   "mimetype": "text/x-python",
   "name": "python",
   "nbconvert_exporter": "python",
   "pygments_lexer": "ipython3",
   "version": "3.12.7"
  }
 },
 "nbformat": 4,
 "nbformat_minor": 5
}
